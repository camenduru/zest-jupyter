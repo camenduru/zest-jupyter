{
  "cells": [
    {
      "cell_type": "markdown",
      "metadata": {
        "id": "view-in-github"
      },
      "source": [
        "[![Open In Colab](https://colab.research.google.com/assets/colab-badge.svg)](https://colab.research.google.com/github/camenduru/zest-jupyter/blob/main/zest_jupyter.ipynb)"
      ]
    },
    {
      "cell_type": "code",
      "execution_count": null,
      "metadata": {
        "id": "VjYy0F2gZIPR"
      },
      "outputs": [],
      "source": [
        "%cd /content\n",
        "!GIT_LFS_SKIP_SMUDGE=1 git clone -b dev https://github.com/camenduru/zest_code\n",
        "%cd /content/zest_code\n",
        "\n",
        "!pip install -q diffusers rembg einops==0.7.0 gradio==4.15.0 accelerate==0.26.1 timm==0.6.12\n",
        "!pip install git+https://github.com/tencent-ailab/IP-Adapter.git\n",
        "\n",
        "!git clone https://huggingface.co/h94/IP-Adapter\n",
        "!mv IP-Adapter/models models\n",
        "!mv IP-Adapter/sdxl_models sdxl_models\n",
        "!git clone https://github.com/tencent-ailab/IP-Adapter /content/zest_code/ip_adapter\n",
        "\n",
        "!git clone https://github.com/isl-org/DPT /content/zest_code/DPT\n",
        "!wget https://github.com/intel-isl/DPT/releases/download/1_0/dpt_hybrid-midas-501f0c75.pt -O /content/zest_code/DPT/weights/dpt_hybrid-midas-501f0c75.pt\n",
        "\n",
        "!python demo_gradio.py"
      ]
    }
  ],
  "metadata": {
    "accelerator": "GPU",
    "colab": {
      "gpuType": "T4",
      "provenance": []
    },
    "kernelspec": {
      "display_name": "Python 3",
      "name": "python3"
    },
    "language_info": {
      "name": "python"
    }
  },
  "nbformat": 4,
  "nbformat_minor": 0
}
